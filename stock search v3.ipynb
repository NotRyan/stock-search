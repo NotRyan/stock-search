{
 "cells": [
  {
   "cell_type": "code",
   "execution_count": 19,
   "id": "fd110f5d",
   "metadata": {},
   "outputs": [
    {
     "name": "stdout",
     "output_type": "stream",
     "text": [
      "Collecting pymilvus==1.1.0\n",
      "  Using cached pymilvus-1.1.0-py3-none-any.whl (56 kB)\n",
      "Requirement already satisfied: grpcio>=1.22.0 in /usr/local/Cellar/jupyterlab/3.0.16/libexec/lib/python3.9/site-packages (from pymilvus==1.1.0) (1.37.1)\n",
      "Requirement already satisfied: requests>=2.22.0 in /usr/local/Cellar/jupyterlab/3.0.16/libexec/lib/python3.9/site-packages (from pymilvus==1.1.0) (2.25.1)\n",
      "Requirement already satisfied: ujson>=2.0.0 in /usr/local/Cellar/jupyterlab/3.0.16/libexec/lib/python3.9/site-packages (from pymilvus==1.1.0) (4.0.2)\n",
      "Requirement already satisfied: grpcio-tools>=1.22.0 in /usr/local/Cellar/jupyterlab/3.0.16/libexec/lib/python3.9/site-packages (from pymilvus==1.1.0) (1.37.1)\n",
      "Requirement already satisfied: six>=1.5.2 in /usr/local/Cellar/jupyterlab/3.0.16/libexec/lib/python3.9/site-packages (from grpcio>=1.22.0->pymilvus==1.1.0) (1.15.0)\n",
      "Requirement already satisfied: protobuf<4.0dev,>=3.5.0.post1 in /usr/local/Cellar/jupyterlab/3.0.16/libexec/lib/python3.9/site-packages (from grpcio-tools>=1.22.0->pymilvus==1.1.0) (3.17.3)\n",
      "Requirement already satisfied: setuptools in /usr/local/Cellar/jupyterlab/3.0.16/libexec/lib/python3.9/site-packages (from grpcio-tools>=1.22.0->pymilvus==1.1.0) (56.0.0)\n",
      "Requirement already satisfied: urllib3<1.27,>=1.21.1 in /usr/local/Cellar/jupyterlab/3.0.16/libexec/lib/python3.9/site-packages (from requests>=2.22.0->pymilvus==1.1.0) (1.26.5)\n",
      "Requirement already satisfied: idna<3,>=2.5 in /usr/local/Cellar/jupyterlab/3.0.16/libexec/lib/python3.9/site-packages (from requests>=2.22.0->pymilvus==1.1.0) (2.10)\n",
      "Requirement already satisfied: certifi>=2017.4.17 in /usr/local/Cellar/jupyterlab/3.0.16/libexec/lib/python3.9/site-packages (from requests>=2.22.0->pymilvus==1.1.0) (2021.5.30)\n",
      "Requirement already satisfied: chardet<5,>=3.0.2 in /usr/local/Cellar/jupyterlab/3.0.16/libexec/lib/python3.9/site-packages (from requests>=2.22.0->pymilvus==1.1.0) (4.0.0)\n",
      "Installing collected packages: pymilvus\n",
      "  Attempting uninstall: pymilvus\n",
      "    Found existing installation: pymilvus 1.0.0\n",
      "    Uninstalling pymilvus-1.0.0:\n",
      "      Successfully uninstalled pymilvus-1.0.0\n",
      "Successfully installed pymilvus-1.1.0\n",
      "\u001b[33mWARNING: You are using pip version 21.1.1; however, version 21.1.2 is available.\n",
      "You should consider upgrading via the '/usr/local/Cellar/jupyterlab/3.0.16/libexec/bin/python3.9 -m pip install --upgrade pip' command.\u001b[0m\n"
     ]
    }
   ],
   "source": [
    "import sys\n",
    "!{sys.executable} -m pip install pymilvus==1.1.0"
   ]
  },
  {
   "cell_type": "code",
   "execution_count": 13,
   "id": "6b71bedc",
   "metadata": {},
   "outputs": [],
   "source": [
    "import os\n",
    "import pandas as pd\n",
    "import numpy as np\n",
    "import pymysql\n",
    "from milvus import Milvus, MetricType\n",
    "from sklearn.preprocessing import StandardScaler"
   ]
  },
  {
   "cell_type": "code",
   "execution_count": 122,
   "id": "e75f50e9",
   "metadata": {},
   "outputs": [],
   "source": [
    "#config settings\n",
    "STOCK_METRIC = 'Close'\n",
    "STOCK_WIDTH = 20\n",
    "STOCK_TIME_STEP = 5\n",
    "\n",
    "DATASET_PATH = \"data/archive/Stocks\"\n",
    "MILVUS_HOST = '127.0.0.1'\n",
    "MILVUS_PORT = 19530\n",
    "MILVUS_COLLECTION_NAME = 'stock_historical'\n",
    "INDEX_FILE_SIZE = 1024\n",
    "METRIC_TYPE = MetricType.L2\n",
    "\n",
    "MYSQL_HOST = '127.0.0.1'\n",
    "MYSQL_PORT = 3306\n",
    "MYSQL_USER = 'root'\n",
    "MYSQL_PWD = '123456'\n",
    "MYSQL_DB = 'mysql'\n",
    "MYSQL_TABLE = 'milvus_stock_search'"
   ]
  },
  {
   "cell_type": "code",
   "execution_count": 3,
   "id": "41bfa8c4",
   "metadata": {},
   "outputs": [
    {
     "name": "stdout",
     "output_type": "stream",
     "text": [
      "docker: Error response from daemon: Conflict. The container name \"/milvus_cpu_1.1.0\" is already in use by container \"565a57fc80a3467f9be76d93b8ec494121726221c5318fb1fd473d13926390b0\". You have to remove (or rename) that container to be able to reuse that name.\r\n",
      "See 'docker run --help'.\r\n"
     ]
    }
   ],
   "source": [
    "! docker run --name milvus_cpu_1.1.0 -d \\\n",
    "-p 19530:19530 \\\n",
    "-p 19121:19121 \\\n",
    "milvusdb/milvus:1.1.0-cpu-d050721-5e559c"
   ]
  },
  {
   "cell_type": "code",
   "execution_count": 119,
   "id": "906ba9b9",
   "metadata": {},
   "outputs": [
    {
     "name": "stdout",
     "output_type": "stream",
     "text": [
      "Unable to find image 'mysql:5.7' locally\n",
      "5.7: Pulling from library/mysql\n",
      "\n",
      "\u001b[1B81a07f80: Pulling fs layer \n",
      "\u001b[1Bb60610f5: Pulling fs layer \n",
      "\u001b[1Bafb77ab8: Pulling fs layer \n",
      "\u001b[1B46006037: Pulling fs layer \n",
      "\u001b[1Be54c8855: Pulling fs layer \n",
      "\u001b[1Be05cc46d: Pulling fs layer \n",
      "\u001b[1B814c833f: Pulling fs layer \n",
      "\u001b[1B5b4af634: Pulling fs layer \n",
      "\u001b[1Ba5b14385: Pulling fs layer \n",
      "\u001b[1B36297c75: Pulling fs layer \n",
      "\u001b[1BDigest: sha256:1a2f9cd257e75cc80e9118b303d1648366bc2049101449bf2c8d82b022ea86b72K\u001b[9A\u001b[2K\u001b[11A\u001b[2K\u001b[11A\u001b[2K\u001b[8A\u001b[2K\u001b[11A\u001b[2K\u001b[8A\u001b[2K\u001b[11A\u001b[2K\u001b[7A\u001b[2K\u001b[11A\u001b[2K\u001b[11A\u001b[2K\u001b[11A\u001b[2K\u001b[11A\u001b[2K\u001b[6A\u001b[2K\u001b[5A\u001b[2K\u001b[6A\u001b[2K\u001b[6A\u001b[2K\u001b[6A\u001b[2K\u001b[6A\u001b[2K\u001b[4A\u001b[2K\u001b[11A\u001b[2K\u001b[3A\u001b[2K\u001b[11A\u001b[2K\u001b[3A\u001b[2K\u001b[11A\u001b[2K\u001b[3A\u001b[2K\u001b[2A\u001b[2K\u001b[3A\u001b[2K\u001b[1A\u001b[2K\u001b[3A\u001b[2K\u001b[3A\u001b[2K\u001b[11A\u001b[2K\u001b[3A\u001b[2K\u001b[11A\u001b[2K\u001b[3A\u001b[2K\u001b[11A\u001b[2K\u001b[3A\u001b[2K\u001b[11A\u001b[2K\u001b[3A\u001b[2K\u001b[3A\u001b[2K\u001b[3A\u001b[2K\u001b[11A\u001b[2K\u001b[3A\u001b[2K\u001b[11A\u001b[2K\u001b[3A\u001b[2K\u001b[11A\u001b[2K\u001b[3A\u001b[2K\u001b[11A\u001b[2K\u001b[3A\u001b[2K\u001b[3A\u001b[2K\u001b[11A\u001b[2K\u001b[3A\u001b[2K\u001b[3A\u001b[2K\u001b[11A\u001b[2K\u001b[3A\u001b[2K\u001b[11A\u001b[2K\u001b[11A\u001b[2K\u001b[3A\u001b[2K\u001b[3A\u001b[2K\u001b[10A\u001b[2K\u001b[3A\u001b[2K\u001b[9A\u001b[2K\u001b[3A\u001b[2K\u001b[3A\u001b[2K\u001b[3A\u001b[2K\u001b[9A\u001b[2K\u001b[3A\u001b[2K\u001b[8A\u001b[2K\u001b[3A\u001b[2K\u001b[8A\u001b[2K\u001b[8A\u001b[2K\u001b[3A\u001b[2K\u001b[3A\u001b[2K\u001b[6A\u001b[2K\u001b[6A\u001b[2K\u001b[6A\u001b[2K\u001b[6A\u001b[2K\u001b[6A\u001b[2K\u001b[6A\u001b[2K\u001b[6A\u001b[2K\u001b[6A\u001b[2K\u001b[6A\u001b[2K\u001b[5A\u001b[2K\u001b[4A\u001b[2K\u001b[3A\u001b[2K\u001b[3A\u001b[2K\u001b[3A\u001b[2K\u001b[3A\u001b[2K\u001b[3A\u001b[2K\u001b[3A\u001b[2K\u001b[3A\u001b[2K\u001b[3A\u001b[2K\u001b[3A\u001b[2K\u001b[3A\u001b[2K\u001b[3A\u001b[2K\u001b[3A\u001b[2K\u001b[3A\u001b[2K\u001b[3A\u001b[2K\u001b[3A\u001b[2K\u001b[3A\u001b[2K\u001b[3A\u001b[2K\u001b[3A\u001b[2K\u001b[3A\u001b[2K\u001b[3A\u001b[2K\u001b[3A\u001b[2K\u001b[3A\u001b[2K\u001b[3A\u001b[2K\u001b[3A\u001b[2K\u001b[3A\u001b[2K\u001b[3A\u001b[2K\u001b[3A\u001b[2K\u001b[3A\u001b[2K\u001b[3A\u001b[2K\u001b[3A\u001b[2K\u001b[3A\u001b[2K\u001b[3A\u001b[2K\u001b[3A\u001b[2K\u001b[3A\u001b[2K\u001b[3A\u001b[2K\u001b[3A\u001b[2K\u001b[3A\u001b[2K\u001b[3A\u001b[2K\u001b[3A\u001b[2K\u001b[2A\u001b[2K\u001b[1A\u001b[2K\n",
      "Status: Downloaded newer image for mysql:5.7\n",
      "f8811a1b06b44ac8ef88d680c62c25767cf2920e010827cd46f284ef9b062580\n",
      "docker: Error response from daemon: driver failed programming external connectivity on endpoint sad_dubinsky (a4b1e8cabca17bf7a20d4d5400c8724a547bc873674f2693bdf0af6b54163dbe): Bind for 0.0.0.0:3306 failed: port is already allocated.\n"
     ]
    }
   ],
   "source": [
    "! docker run -p 3306:3306 -e MYSQL_ROOT_PASSWORD=123456 -d mysql:5.7"
   ]
  },
  {
   "cell_type": "code",
   "execution_count": 145,
   "id": "d70f580a",
   "metadata": {},
   "outputs": [],
   "source": [
    "def read_from_file(path):\n",
    "    df = pd.read_csv(path)\n",
    "    df['Date'] = pd.to_datetime(df.Date,format='%Y-%m-%d')\n",
    "    df['Date'] = df['Date'].apply(lambda x: x.date())\n",
    "    df.index = df['Date']\n",
    "    df = df[[STOCK_METRIC]]\n",
    "    return df"
   ]
  },
  {
   "cell_type": "code",
   "execution_count": 146,
   "id": "100e5416",
   "metadata": {},
   "outputs": [],
   "source": [
    "df = read_from_file('data/archive/Stocks/evlmc.us.txt')"
   ]
  },
  {
   "cell_type": "code",
   "execution_count": 112,
   "id": "9f3c296b",
   "metadata": {},
   "outputs": [],
   "source": [
    "def partition_data(df, duration, time_step):\n",
    "    stock_sets, date_starts, date_ends = [], [], []\n",
    "    for i in range(0,len(df) - duration,time_step):\n",
    "        stock_set = df.iloc[i:i + duration]\n",
    "        scaler = StandardScaler()\n",
    "        scaled_stock_set = scaler.fit_transform(stock_set)\n",
    "        stock_sets.append(np.stack(scaled_stock_set, axis=1).tolist()[0])\n",
    "        date_starts.append(df.index[i])\n",
    "        date_ends.append(df.index[i])\n",
    "    return stock_sets, date_starts, date_ends"
   ]
  },
  {
   "cell_type": "code",
   "execution_count": 151,
   "id": "53ee9d60",
   "metadata": {
    "scrolled": false
   },
   "outputs": [
    {
     "data": {
      "text/plain": [
       "list"
      ]
     },
     "execution_count": 151,
     "metadata": {},
     "output_type": "execute_result"
    }
   ],
   "source": [
    "sets, start, end = partition_data(df, STOCK_WIDTH, STOCK_TIME_STEP)\n",
    "type(sets[0])\n",
    "#sets"
   ]
  },
  {
   "cell_type": "code",
   "execution_count": 129,
   "id": "5da46c93",
   "metadata": {},
   "outputs": [],
   "source": [
    "def load_data_to_mysql(data):\n",
    "    sql = \"insert into \" + MYSQL_TABLE + \" (milvus_id,file_path,start_date,end_date) values (%s,%s,%s,%s);\"\n",
    "    cursor.executemany(sql, data)\n",
    "    conn.commit()"
   ]
  },
  {
   "cell_type": "code",
   "execution_count": 115,
   "id": "4cfe39cb",
   "metadata": {},
   "outputs": [],
   "source": [
    "client = Milvus(host=MILVUS_HOST, port=MILVUS_PORT)\n",
    "try:\n",
    "    if not client.has_collection(MILVUS_COLLECTION_NAME)[1]:\n",
    "        collection_param = {\n",
    "            'collection_name': MILVUS_COLLECTION_NAME,\n",
    "            'dimension': STOCK_WIDTH,\n",
    "            'index_file_size': INDEX_FILE_SIZE,\n",
    "            'metric_type': METRIC_TYPE\n",
    "        }\n",
    "        status = client.create_collection(collection_param)\n",
    "        if status.code != 0:\n",
    "            raise Exception(status.message)\n",
    "except Exception as e:\n",
    "    print(\"Failed to load data to Milvus: {}\".format(e))"
   ]
  },
  {
   "cell_type": "code",
   "execution_count": 161,
   "id": "5d41c399",
   "metadata": {},
   "outputs": [],
   "source": [
    "conn = pymysql.connect(host=MYSQL_HOST, user=MYSQL_USER, port=MYSQL_PORT, \n",
    "                       password=MYSQL_PWD, database=MYSQL_DB, local_infile=True)\n",
    "cursor = conn.cursor()\n",
    "sql = \"create table if not exists \" + MYSQL_TABLE + \"(milvus_id TEXT, file_path TEXT, start_date DATE, end_date DATE);\"\n",
    "try:\n",
    "    cursor.execute(sql)\n",
    "except Exception as e:\n",
    "    print(\"MYSQL ERROR: {} with sql: {}\".format(e, sql))"
   ]
  },
  {
   "cell_type": "code",
   "execution_count": 168,
   "id": "0180d212",
   "metadata": {},
   "outputs": [
    {
     "name": "stdout",
     "output_type": "stream",
     "text": [
      "Status(code=0, message='Add vectors successfully!')\n"
     ]
    }
   ],
   "source": [
    "directory = os.fsencode(DATASET_PATH)\n",
    "for file in os.listdir(directory):\n",
    "#for file in ['data/archive/Stocks/evlmc.us.txt']:\n",
    "    filename = os.fsdecode(file)\n",
    "    if filename.endswith(\".txt\"): \n",
    "        try:\n",
    "            #full_path = os.path.join(directory, file)\n",
    "            full_path = DATASET_PATH + '/' + filename\n",
    "            #full_path = 'data/archive/Stocks/evlmc.us.txt'\n",
    "            #print(full_path)\n",
    "            df = read_from_file(full_path)\n",
    "            sets, start, end = partition_data(df, STOCK_WIDTH, STOCK_TIME_STEP)\n",
    "            #print(type(start[0]))\n",
    "            status, ids = client.insert(collection_name=MILVUS_COLLECTION_NAME, records=sets)\n",
    "            if not status.OK():\n",
    "                print(\"Insert failed for file {}: {}\".format(full_path, status))\n",
    "                continue\n",
    "            ids = list(map(str, ids))\n",
    "            \n",
    "            load_data_to_mysql(zip(ids, [full_path] * len(ids), start, end))\n",
    "            \n",
    "            \n",
    "            break\n",
    "        except Exception as e:\n",
    "            print(\"Failed to load data: {}\".format(e))\n",
    "            continue\n",
    "    else:\n",
    "        continue"
   ]
  },
  {
   "cell_type": "code",
   "execution_count": 167,
   "id": "d615a59a",
   "metadata": {},
   "outputs": [
    {
     "name": "stdout",
     "output_type": "stream",
     "text": [
      "(('1624924415187576000', 'data/archive/Stocks/evlmc.us.txt', datetime.date(2016, 4, 1), datetime.date(2016, 4, 1)), ('1624924415187576001', 'data/archive/Stocks/evlmc.us.txt', datetime.date(2016, 4, 7), datetime.date(2016, 4, 7)), ('1624924415187576002', 'data/archive/Stocks/evlmc.us.txt', datetime.date(2016, 4, 13), datetime.date(2016, 4, 13)), ('1624924415187576003', 'data/archive/Stocks/evlmc.us.txt', datetime.date(2016, 4, 19), datetime.date(2016, 4, 19)), ('1624924415187576004', 'data/archive/Stocks/evlmc.us.txt', datetime.date(2016, 4, 25), datetime.date(2016, 4, 25)), ('1624924415187576005', 'data/archive/Stocks/evlmc.us.txt', datetime.date(2016, 4, 30), datetime.date(2016, 4, 30)), ('1624924415187576006', 'data/archive/Stocks/evlmc.us.txt', datetime.date(2016, 5, 6), datetime.date(2016, 5, 6)), ('1624924415187576007', 'data/archive/Stocks/evlmc.us.txt', datetime.date(2016, 5, 12), datetime.date(2016, 5, 12)), ('1624924415187576008', 'data/archive/Stocks/evlmc.us.txt', datetime.date(2016, 5, 18), datetime.date(2016, 5, 18)), ('1624924415187576009', 'data/archive/Stocks/evlmc.us.txt', datetime.date(2016, 5, 24), datetime.date(2016, 5, 24)), ('1624924415187576010', 'data/archive/Stocks/evlmc.us.txt', datetime.date(2016, 5, 31), datetime.date(2016, 5, 31)), ('1624924415187576011', 'data/archive/Stocks/evlmc.us.txt', datetime.date(2016, 6, 6), datetime.date(2016, 6, 6)), ('1624924415187576012', 'data/archive/Stocks/evlmc.us.txt', datetime.date(2016, 6, 11), datetime.date(2016, 6, 11)), ('1624924415187576013', 'data/archive/Stocks/evlmc.us.txt', datetime.date(2016, 6, 17), datetime.date(2016, 6, 17)), ('1624924415187576014', 'data/archive/Stocks/evlmc.us.txt', datetime.date(2016, 6, 23), datetime.date(2016, 6, 23)), ('1624924415187576015', 'data/archive/Stocks/evlmc.us.txt', datetime.date(2016, 6, 30), datetime.date(2016, 6, 30)), ('1624924415187576016', 'data/archive/Stocks/evlmc.us.txt', datetime.date(2016, 7, 7), datetime.date(2016, 7, 7)), ('1624924415187576017', 'data/archive/Stocks/evlmc.us.txt', datetime.date(2016, 7, 14), datetime.date(2016, 7, 14)), ('1624924415187576018', 'data/archive/Stocks/evlmc.us.txt', datetime.date(2016, 7, 21), datetime.date(2016, 7, 21)), ('1624924415187576019', 'data/archive/Stocks/evlmc.us.txt', datetime.date(2016, 7, 28), datetime.date(2016, 7, 28)), ('1624924415187576020', 'data/archive/Stocks/evlmc.us.txt', datetime.date(2016, 8, 4), datetime.date(2016, 8, 4)), ('1624924415187576021', 'data/archive/Stocks/evlmc.us.txt', datetime.date(2016, 8, 11), datetime.date(2016, 8, 11)), ('1624924415187576022', 'data/archive/Stocks/evlmc.us.txt', datetime.date(2016, 8, 18), datetime.date(2016, 8, 18)), ('1624924415187576023', 'data/archive/Stocks/evlmc.us.txt', datetime.date(2016, 8, 25), datetime.date(2016, 8, 25)), ('1624924415187576024', 'data/archive/Stocks/evlmc.us.txt', datetime.date(2016, 9, 1), datetime.date(2016, 9, 1)), ('1624924415187576025', 'data/archive/Stocks/evlmc.us.txt', datetime.date(2016, 9, 9), datetime.date(2016, 9, 9)), ('1624924415187576026', 'data/archive/Stocks/evlmc.us.txt', datetime.date(2016, 9, 16), datetime.date(2016, 9, 16)), ('1624924415187576027', 'data/archive/Stocks/evlmc.us.txt', datetime.date(2016, 9, 23), datetime.date(2016, 9, 23)), ('1624924415187576028', 'data/archive/Stocks/evlmc.us.txt', datetime.date(2016, 9, 30), datetime.date(2016, 9, 30)), ('1624924415187576029', 'data/archive/Stocks/evlmc.us.txt', datetime.date(2016, 10, 7), datetime.date(2016, 10, 7)), ('1624924415187576030', 'data/archive/Stocks/evlmc.us.txt', datetime.date(2016, 10, 14), datetime.date(2016, 10, 14)), ('1624924415187576031', 'data/archive/Stocks/evlmc.us.txt', datetime.date(2016, 10, 21), datetime.date(2016, 10, 21)), ('1624924415187576032', 'data/archive/Stocks/evlmc.us.txt', datetime.date(2016, 10, 28), datetime.date(2016, 10, 28)), ('1624924415187576033', 'data/archive/Stocks/evlmc.us.txt', datetime.date(2016, 11, 4), datetime.date(2016, 11, 4)), ('1624924415187576034', 'data/archive/Stocks/evlmc.us.txt', datetime.date(2016, 11, 11), datetime.date(2016, 11, 11)), ('1624924415187576035', 'data/archive/Stocks/evlmc.us.txt', datetime.date(2016, 11, 18), datetime.date(2016, 11, 18)), ('1624924415187576036', 'data/archive/Stocks/evlmc.us.txt', datetime.date(2016, 11, 28), datetime.date(2016, 11, 28)), ('1624924415187576037', 'data/archive/Stocks/evlmc.us.txt', datetime.date(2016, 12, 5), datetime.date(2016, 12, 5)), ('1624924415187576038', 'data/archive/Stocks/evlmc.us.txt', datetime.date(2016, 12, 12), datetime.date(2016, 12, 12)), ('1624924415187576039', 'data/archive/Stocks/evlmc.us.txt', datetime.date(2016, 12, 19), datetime.date(2016, 12, 19)), ('1624924415187576040', 'data/archive/Stocks/evlmc.us.txt', datetime.date(2016, 12, 27), datetime.date(2016, 12, 27)), ('1624924415187576041', 'data/archive/Stocks/evlmc.us.txt', datetime.date(2017, 1, 4), datetime.date(2017, 1, 4)), ('1624924415187576042', 'data/archive/Stocks/evlmc.us.txt', datetime.date(2017, 1, 11), datetime.date(2017, 1, 11)), ('1624924415187576043', 'data/archive/Stocks/evlmc.us.txt', datetime.date(2017, 1, 19), datetime.date(2017, 1, 19)), ('1624924415187576044', 'data/archive/Stocks/evlmc.us.txt', datetime.date(2017, 1, 26), datetime.date(2017, 1, 26)), ('1624924415187576045', 'data/archive/Stocks/evlmc.us.txt', datetime.date(2017, 2, 2), datetime.date(2017, 2, 2)), ('1624924415187576046', 'data/archive/Stocks/evlmc.us.txt', datetime.date(2017, 2, 9), datetime.date(2017, 2, 9)), ('1624924415187576047', 'data/archive/Stocks/evlmc.us.txt', datetime.date(2017, 2, 16), datetime.date(2017, 2, 16)), ('1624924415187576048', 'data/archive/Stocks/evlmc.us.txt', datetime.date(2017, 3, 6), datetime.date(2017, 3, 6)), ('1624924415187576049', 'data/archive/Stocks/evlmc.us.txt', datetime.date(2017, 3, 13), datetime.date(2017, 3, 13)), ('1624924415187576050', 'data/archive/Stocks/evlmc.us.txt', datetime.date(2017, 3, 20), datetime.date(2017, 3, 20)), ('1624924415187576051', 'data/archive/Stocks/evlmc.us.txt', datetime.date(2017, 3, 27), datetime.date(2017, 3, 27)), ('1624924415187576052', 'data/archive/Stocks/evlmc.us.txt', datetime.date(2017, 4, 3), datetime.date(2017, 4, 3)), ('1624924415187576053', 'data/archive/Stocks/evlmc.us.txt', datetime.date(2017, 4, 10), datetime.date(2017, 4, 10)), ('1624924415187576054', 'data/archive/Stocks/evlmc.us.txt', datetime.date(2017, 4, 18), datetime.date(2017, 4, 18)), ('1624924415187576055', 'data/archive/Stocks/evlmc.us.txt', datetime.date(2017, 4, 25), datetime.date(2017, 4, 25)), ('1624924415187576056', 'data/archive/Stocks/evlmc.us.txt', datetime.date(2017, 5, 2), datetime.date(2017, 5, 2)), ('1624924415187576057', 'data/archive/Stocks/evlmc.us.txt', datetime.date(2017, 5, 9), datetime.date(2017, 5, 9)), ('1624924415187576058', 'data/archive/Stocks/evlmc.us.txt', datetime.date(2017, 5, 16), datetime.date(2017, 5, 16)), ('1624924415187576059', 'data/archive/Stocks/evlmc.us.txt', datetime.date(2017, 5, 23), datetime.date(2017, 5, 23)), ('1624924415187576060', 'data/archive/Stocks/evlmc.us.txt', datetime.date(2017, 5, 31), datetime.date(2017, 5, 31)), ('1624924415187576061', 'data/archive/Stocks/evlmc.us.txt', datetime.date(2017, 6, 7), datetime.date(2017, 6, 7)), ('1624924415187576062', 'data/archive/Stocks/evlmc.us.txt', datetime.date(2017, 6, 14), datetime.date(2017, 6, 14)), ('1624924415187576063', 'data/archive/Stocks/evlmc.us.txt', datetime.date(2017, 6, 21), datetime.date(2017, 6, 21)), ('1624924597629670000', 'data/archive/Stocks/evlmc.us.txt', datetime.date(2016, 4, 1), datetime.date(2016, 4, 1)), ('1624924597629670001', 'data/archive/Stocks/evlmc.us.txt', datetime.date(2016, 4, 7), datetime.date(2016, 4, 7)), ('1624924597629670002', 'data/archive/Stocks/evlmc.us.txt', datetime.date(2016, 4, 13), datetime.date(2016, 4, 13)), ('1624924597629670003', 'data/archive/Stocks/evlmc.us.txt', datetime.date(2016, 4, 19), datetime.date(2016, 4, 19)), ('1624924597629670004', 'data/archive/Stocks/evlmc.us.txt', datetime.date(2016, 4, 25), datetime.date(2016, 4, 25)), ('1624924597629670005', 'data/archive/Stocks/evlmc.us.txt', datetime.date(2016, 4, 30), datetime.date(2016, 4, 30)), ('1624924597629670006', 'data/archive/Stocks/evlmc.us.txt', datetime.date(2016, 5, 6), datetime.date(2016, 5, 6)), ('1624924597629670007', 'data/archive/Stocks/evlmc.us.txt', datetime.date(2016, 5, 12), datetime.date(2016, 5, 12)), ('1624924597629670008', 'data/archive/Stocks/evlmc.us.txt', datetime.date(2016, 5, 18), datetime.date(2016, 5, 18)), ('1624924597629670009', 'data/archive/Stocks/evlmc.us.txt', datetime.date(2016, 5, 24), datetime.date(2016, 5, 24)), ('1624924597629670010', 'data/archive/Stocks/evlmc.us.txt', datetime.date(2016, 5, 31), datetime.date(2016, 5, 31)), ('1624924597629670011', 'data/archive/Stocks/evlmc.us.txt', datetime.date(2016, 6, 6), datetime.date(2016, 6, 6)), ('1624924597629670012', 'data/archive/Stocks/evlmc.us.txt', datetime.date(2016, 6, 11), datetime.date(2016, 6, 11)), ('1624924597629670013', 'data/archive/Stocks/evlmc.us.txt', datetime.date(2016, 6, 17), datetime.date(2016, 6, 17)), ('1624924597629670014', 'data/archive/Stocks/evlmc.us.txt', datetime.date(2016, 6, 23), datetime.date(2016, 6, 23)), ('1624924597629670015', 'data/archive/Stocks/evlmc.us.txt', datetime.date(2016, 6, 30), datetime.date(2016, 6, 30)), ('1624924597629670016', 'data/archive/Stocks/evlmc.us.txt', datetime.date(2016, 7, 7), datetime.date(2016, 7, 7)), ('1624924597629670017', 'data/archive/Stocks/evlmc.us.txt', datetime.date(2016, 7, 14), datetime.date(2016, 7, 14)), ('1624924597629670018', 'data/archive/Stocks/evlmc.us.txt', datetime.date(2016, 7, 21), datetime.date(2016, 7, 21)), ('1624924597629670019', 'data/archive/Stocks/evlmc.us.txt', datetime.date(2016, 7, 28), datetime.date(2016, 7, 28)), ('1624924597629670020', 'data/archive/Stocks/evlmc.us.txt', datetime.date(2016, 8, 4), datetime.date(2016, 8, 4)), ('1624924597629670021', 'data/archive/Stocks/evlmc.us.txt', datetime.date(2016, 8, 11), datetime.date(2016, 8, 11)), ('1624924597629670022', 'data/archive/Stocks/evlmc.us.txt', datetime.date(2016, 8, 18), datetime.date(2016, 8, 18)), ('1624924597629670023', 'data/archive/Stocks/evlmc.us.txt', datetime.date(2016, 8, 25), datetime.date(2016, 8, 25)), ('1624924597629670024', 'data/archive/Stocks/evlmc.us.txt', datetime.date(2016, 9, 1), datetime.date(2016, 9, 1)), ('1624924597629670025', 'data/archive/Stocks/evlmc.us.txt', datetime.date(2016, 9, 9), datetime.date(2016, 9, 9)), ('1624924597629670026', 'data/archive/Stocks/evlmc.us.txt', datetime.date(2016, 9, 16), datetime.date(2016, 9, 16)), ('1624924597629670027', 'data/archive/Stocks/evlmc.us.txt', datetime.date(2016, 9, 23), datetime.date(2016, 9, 23)), ('1624924597629670028', 'data/archive/Stocks/evlmc.us.txt', datetime.date(2016, 9, 30), datetime.date(2016, 9, 30)), ('1624924597629670029', 'data/archive/Stocks/evlmc.us.txt', datetime.date(2016, 10, 7), datetime.date(2016, 10, 7)), ('1624924597629670030', 'data/archive/Stocks/evlmc.us.txt', datetime.date(2016, 10, 14), datetime.date(2016, 10, 14)), ('1624924597629670031', 'data/archive/Stocks/evlmc.us.txt', datetime.date(2016, 10, 21), datetime.date(2016, 10, 21)), ('1624924597629670032', 'data/archive/Stocks/evlmc.us.txt', datetime.date(2016, 10, 28), datetime.date(2016, 10, 28)), ('1624924597629670033', 'data/archive/Stocks/evlmc.us.txt', datetime.date(2016, 11, 4), datetime.date(2016, 11, 4)), ('1624924597629670034', 'data/archive/Stocks/evlmc.us.txt', datetime.date(2016, 11, 11), datetime.date(2016, 11, 11)), ('1624924597629670035', 'data/archive/Stocks/evlmc.us.txt', datetime.date(2016, 11, 18), datetime.date(2016, 11, 18)), ('1624924597629670036', 'data/archive/Stocks/evlmc.us.txt', datetime.date(2016, 11, 28), datetime.date(2016, 11, 28)), ('1624924597629670037', 'data/archive/Stocks/evlmc.us.txt', datetime.date(2016, 12, 5), datetime.date(2016, 12, 5)), ('1624924597629670038', 'data/archive/Stocks/evlmc.us.txt', datetime.date(2016, 12, 12), datetime.date(2016, 12, 12)), ('1624924597629670039', 'data/archive/Stocks/evlmc.us.txt', datetime.date(2016, 12, 19), datetime.date(2016, 12, 19)), ('1624924597629670040', 'data/archive/Stocks/evlmc.us.txt', datetime.date(2016, 12, 27), datetime.date(2016, 12, 27)), ('1624924597629670041', 'data/archive/Stocks/evlmc.us.txt', datetime.date(2017, 1, 4), datetime.date(2017, 1, 4)), ('1624924597629670042', 'data/archive/Stocks/evlmc.us.txt', datetime.date(2017, 1, 11), datetime.date(2017, 1, 11)), ('1624924597629670043', 'data/archive/Stocks/evlmc.us.txt', datetime.date(2017, 1, 19), datetime.date(2017, 1, 19)), ('1624924597629670044', 'data/archive/Stocks/evlmc.us.txt', datetime.date(2017, 1, 26), datetime.date(2017, 1, 26)), ('1624924597629670045', 'data/archive/Stocks/evlmc.us.txt', datetime.date(2017, 2, 2), datetime.date(2017, 2, 2)), ('1624924597629670046', 'data/archive/Stocks/evlmc.us.txt', datetime.date(2017, 2, 9), datetime.date(2017, 2, 9)), ('1624924597629670047', 'data/archive/Stocks/evlmc.us.txt', datetime.date(2017, 2, 16), datetime.date(2017, 2, 16)), ('1624924597629670048', 'data/archive/Stocks/evlmc.us.txt', datetime.date(2017, 3, 6), datetime.date(2017, 3, 6)), ('1624924597629670049', 'data/archive/Stocks/evlmc.us.txt', datetime.date(2017, 3, 13), datetime.date(2017, 3, 13)), ('1624924597629670050', 'data/archive/Stocks/evlmc.us.txt', datetime.date(2017, 3, 20), datetime.date(2017, 3, 20)), ('1624924597629670051', 'data/archive/Stocks/evlmc.us.txt', datetime.date(2017, 3, 27), datetime.date(2017, 3, 27)), ('1624924597629670052', 'data/archive/Stocks/evlmc.us.txt', datetime.date(2017, 4, 3), datetime.date(2017, 4, 3)), ('1624924597629670053', 'data/archive/Stocks/evlmc.us.txt', datetime.date(2017, 4, 10), datetime.date(2017, 4, 10)), ('1624924597629670054', 'data/archive/Stocks/evlmc.us.txt', datetime.date(2017, 4, 18), datetime.date(2017, 4, 18)), ('1624924597629670055', 'data/archive/Stocks/evlmc.us.txt', datetime.date(2017, 4, 25), datetime.date(2017, 4, 25)), ('1624924597629670056', 'data/archive/Stocks/evlmc.us.txt', datetime.date(2017, 5, 2), datetime.date(2017, 5, 2)), ('1624924597629670057', 'data/archive/Stocks/evlmc.us.txt', datetime.date(2017, 5, 9), datetime.date(2017, 5, 9)), ('1624924597629670058', 'data/archive/Stocks/evlmc.us.txt', datetime.date(2017, 5, 16), datetime.date(2017, 5, 16)), ('1624924597629670059', 'data/archive/Stocks/evlmc.us.txt', datetime.date(2017, 5, 23), datetime.date(2017, 5, 23)), ('1624924597629670060', 'data/archive/Stocks/evlmc.us.txt', datetime.date(2017, 5, 31), datetime.date(2017, 5, 31)), ('1624924597629670061', 'data/archive/Stocks/evlmc.us.txt', datetime.date(2017, 6, 7), datetime.date(2017, 6, 7)), ('1624924597629670062', 'data/archive/Stocks/evlmc.us.txt', datetime.date(2017, 6, 14), datetime.date(2017, 6, 14)), ('1624924597629670063', 'data/archive/Stocks/evlmc.us.txt', datetime.date(2017, 6, 21), datetime.date(2017, 6, 21)))\n"
     ]
    }
   ],
   "source": [
    "cursor.execute(\"SELECT * FROM milvus_stock_search;\")\n",
    "result = cursor.fetchall()\n",
    "print(result)"
   ]
  },
  {
   "cell_type": "code",
   "execution_count": null,
   "id": "eb0c3a79",
   "metadata": {},
   "outputs": [],
   "source": [
    "cursor.execute(\"SELECT * FROM geeksdemo\")\n",
    "  \n",
    "# fetch all the matching rows "
   ]
  },
  {
   "cell_type": "code",
   "execution_count": null,
   "id": "48b234b8",
   "metadata": {},
   "outputs": [],
   "source": []
  }
 ],
 "metadata": {
  "kernelspec": {
   "display_name": "Python 3",
   "language": "python",
   "name": "python3"
  },
  "language_info": {
   "codemirror_mode": {
    "name": "ipython",
    "version": 3
   },
   "file_extension": ".py",
   "mimetype": "text/x-python",
   "name": "python",
   "nbconvert_exporter": "python",
   "pygments_lexer": "ipython3",
   "version": "3.9.5"
  }
 },
 "nbformat": 4,
 "nbformat_minor": 5
}
